{
 "cells": [
  {
   "cell_type": "code",
   "execution_count": 81,
   "metadata": {
    "collapsed": false
   },
   "outputs": [
    {
     "name": "stdout",
     "output_type": "stream",
     "text": [
      "50\n"
     ]
    },
    {
     "data": {
      "text/plain": [
       "\"\\n#clean content to json \\ncontent = (content.split('(', 1)[1])[:-2]\\njc = json.loads(content)\\n#print len(jc['data'])\\nprint len(jc['data'][0]['result'][0])\\n#a = json.loads(content)\\n#print a    \\n\""
      ]
     },
     "execution_count": 81,
     "metadata": {},
     "output_type": "execute_result"
    }
   ],
   "source": [
    "# -*- coding: utf-8 -*-\n",
    "import urllib    \n",
    "import urllib2  \n",
    "import math\n",
    "import time \n",
    "import json\n",
    "from bs4 import BeautifulSoup\n",
    "from collections import OrderedDict\n",
    "\n",
    "time = int(round(time.time() * 1000))\n",
    "\n",
    "# need to keep the order \n",
    "values = OrderedDict()\n",
    "values[\"resource_id\"]=6899\n",
    "values[\"query\"]=\"失信被执行人名单\"\n",
    "values[\"cardNum\"]=\"\"\n",
    "values[\"iname\"]=\"张帆\"\n",
    "values[\"areaName\"]=\"\"\n",
    "values[\"pn\"] = 0\n",
    "values[\"rn\"] = 10\n",
    "values[\"ie\"]=\"utf-8\"\n",
    "values[\"oe\"]=\"utf-8\"\n",
    "values[\"format\"]=\"json\"\n",
    "values[\"t\"]=time\n",
    "values[\"cb\"]=\"jQuery1102019526977392588996_\"+str(time)\n",
    "values[\"_\"]=time\n",
    "\n",
    "def pageClean(raw):\n",
    "    return (raw.split('(', 1)[1])[:-2]\n",
    "\n",
    "def pageProcess(raw):\n",
    "    item_list = []\n",
    "    c = pageClean(raw)\n",
    "    jc = json.loads(c)\n",
    "    queryRet = jc['data'][0]['result']\n",
    "    for item in queryRet:\n",
    "        item_list.append(item)\n",
    "    return item_list\n",
    "\n",
    "\n",
    "final_list = []\n",
    "\n",
    "url = \"http://opendata.baidu.com/api.php\"\n",
    "data = urllib.urlencode(values) \n",
    "#print data\n",
    "geturl = url + \"?\"+data\n",
    "\n",
    "#example url = \"http://opendata.baidu.com/api.php?resource_id=6899&query=%E5%A4%B1%E4%BF%A1%E8%A2%AB%E6%89%A7%E8%A1%8C%E4%BA%BA%E5%90%8D%E5%8D%95&cardNum=&iname=%E7%8E%8B%E6%96%87%E6%9E%97&areaName=%E5%B1%B1%E4%B8%9C&ie=utf-8&oe=utf-8&format=json&t=1474752903379&cb=jQuery110209960325513495023_1474750703993&_=1474750704031\"\n",
    "request = urllib2.Request(geturl)\n",
    "response = urllib2.urlopen(request)\n",
    "soup = BeautifulSoup(response,\"lxml\")\n",
    "content = soup.find('p').get_text().encode(\"utf-8\")\n",
    "\n",
    "final_list.extend(pageProcess(content))\n",
    "print len(final_list)\n",
    "\n",
    "\"\"\"\n",
    "#clean content to json \n",
    "content = (content.split('(', 1)[1])[:-2]\n",
    "jc = json.loads(content)\n",
    "#print len(jc['data'])\n",
    "print len(jc['data'][0]['result'][0])\n",
    "#a = json.loads(content)\n",
    "#print a    \n",
    "\"\"\"    \n",
    "    "
   ]
  },
  {
   "cell_type": "code",
   "execution_count": 110,
   "metadata": {
    "collapsed": false
   },
   "outputs": [
    {
     "ename": "IndentationError",
     "evalue": "expected an indented block (<ipython-input-110-9a020c0e1326>, line 55)",
     "output_type": "error",
     "traceback": [
      "\u001b[0;36m  File \u001b[0;32m\"<ipython-input-110-9a020c0e1326>\"\u001b[0;36m, line \u001b[0;32m55\u001b[0m\n\u001b[0;31m    final_list = []\u001b[0m\n\u001b[0m             ^\u001b[0m\n\u001b[0;31mIndentationError\u001b[0m\u001b[0;31m:\u001b[0m expected an indented block\n"
     ]
    }
   ],
   "source": [
    "# -*- coding: utf-8 -*-\n",
    "import urllib    \n",
    "import urllib2  \n",
    "import math\n",
    "import time \n",
    "import json\n",
    "from bs4 import BeautifulSoup\n",
    "from collections import OrderedDict\n",
    "\n",
    "history = []\n",
    "def pageClean(raw):\n",
    "    return (raw.split('(', 1)[1])[:-2]\n",
    "\n",
    "def pageProcess(raw):\n",
    "    item_list = []\n",
    "    c = pageClean(raw)\n",
    "    jc = json.loads(c)\n",
    "    queryRet = jc['data'][0]['result']\n",
    "    nor = len(queryRet)\n",
    "    for item in queryRet:\n",
    "        #ignore the repeated records\n",
    "        if item['loc'] not in history:\n",
    "            item_list.append(item)\n",
    "            history.append(item['loc'])\n",
    "    return (item_list,nor)\n",
    "\n",
    "def genGetRequest(name,pn,rn):\n",
    "    t = int(round(time.time() * 1000))\n",
    "    # need to keep the order \n",
    "    values = OrderedDict()\n",
    "    values[\"resource_id\"]=6899\n",
    "    values[\"query\"]=\"失信被执行人名单\"\n",
    "    values[\"cardNum\"]=\"\"\n",
    "    values[\"iname\"]=name\n",
    "    values[\"areaName\"]=\"\"\n",
    "    values[\"pn\"] = pn\n",
    "    values[\"rn\"] = rn\n",
    "    values[\"ie\"]=\"utf-8\"\n",
    "    values[\"oe\"]=\"utf-8\"\n",
    "    values[\"format\"]=\"json\"\n",
    "    values[\"t\"]=t\n",
    "    values[\"cb\"]=\"jQuery1102019526977392588996_\"+str(time)\n",
    "    values[\"_\"]=t\n",
    "    url = \"http://opendata.baidu.com/api.php\"\n",
    "    data = urllib.urlencode(values) \n",
    "    geturl = url + \"?\"+data\n",
    "    request = urllib2.Request(geturl)\n",
    "    return request\n",
    "\n",
    "def getResponse(request):\n",
    "    return urllib2.urlopen(request)\n",
    "\n",
    "#def crawler_exe(_username):\n",
    "    \n",
    "final_list = []\n",
    "#example url = \"http://opendata.baidu.com/api.php?resource_id=6899&query=%E5%A4%B1%E4%BF%A1%E8%A2%AB%E6%89%A7%E8%A1%8C%E4%BA%BA%E5%90%8D%E5%8D%95&cardNum=&iname=%E7%8E%8B%E6%96%87%E6%9E%97&areaName=%E5%B1%B1%E4%B8%9C&ie=utf-8&oe=utf-8&format=json&t=1474752903379&cb=jQuery110209960325513495023_1474750703993&_=1474750704031\"\n",
    "name = \"王文林\"\n",
    "output_path = \"laolai_info_\"+name+\".json\"\n",
    "output = open(output_path, \"w\")\n",
    "\n",
    "pn = 0  #start record\n",
    "rn = 10 #10 records per page\n",
    "lastNum = 11\n",
    "\n",
    "while lastNum >10:\n",
    "    request = genGetRequest(name,pn,rn)\n",
    "    response = getResponse(request)\n",
    "    soup = BeautifulSoup(response,\"lxml\")\n",
    "    content = soup.find('p').get_text().encode(\"utf-8\")\n",
    "    singlePageRet = pageProcess(content)\n",
    "    pn = pn+10\n",
    "    lastNum = singlePageRet[1]\n",
    "    final_list.extend(singlePageRet[0])\n",
    "     \n",
    "    #print str(len(final_list))+\" on page: \"+str(pn)+\" last number: \"+str(lastNum)\n",
    "\n",
    "print len(final_list)\n",
    "json.dump(final_list,output,indent=2)\n",
    "output.close()\n",
    "print \"crawling complete\""
   ]
  },
  {
   "cell_type": "code",
   "execution_count": null,
   "metadata": {
    "collapsed": true
   },
   "outputs": [],
   "source": []
  }
 ],
 "metadata": {
  "kernelspec": {
   "display_name": "Python 2",
   "language": "python",
   "name": "python2"
  },
  "language_info": {
   "codemirror_mode": {
    "name": "ipython",
    "version": 2
   },
   "file_extension": ".py",
   "mimetype": "text/x-python",
   "name": "python",
   "nbconvert_exporter": "python",
   "pygments_lexer": "ipython2",
   "version": "2.7.11"
  }
 },
 "nbformat": 4,
 "nbformat_minor": 0
}
